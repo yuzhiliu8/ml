{
 "cells": [
  {
   "cell_type": "code",
   "execution_count": 9,
   "metadata": {},
   "outputs": [
    {
     "name": "stdout",
     "output_type": "stream",
     "text": [
      "False\n",
      "2.5.1+cu118\n"
     ]
    }
   ],
   "source": [
    "import torch\n",
    "\n",
    "print(torch.cuda.is_available())\n",
    "print(torch.__version__)"
   ]
  },
  {
   "cell_type": "markdown",
   "metadata": {},
   "source": [
    "### 3 main issues\n",
    "1. tensors not right datatype\n",
    "2. tensors not right shape (dimensions)\n",
    "3. tensors not on right device (cpu vs gpu)"
   ]
  },
  {
   "cell_type": "code",
   "execution_count": 13,
   "metadata": {},
   "outputs": [
    {
     "name": "stdout",
     "output_type": "stream",
     "text": [
      "tensor(7) torch.Size([]) 0\n",
      "tensor([     4,      5,      6,      7,      8, 123412]) torch.Size([6]) 1\n"
     ]
    }
   ],
   "source": [
    "# Tensors\n",
    "tensor0d = torch.tensor(7)\n",
    "print(tensor0d, tensor0d.shape, tensor0d.ndim)\n",
    "\n",
    "tensor1d = torch.tensor([4, 5, 6, 7, 8, 123412])\n",
    "print(tensor1d, tensor1d.shape, tensor1d.ndim)"
   ]
  },
  {
   "cell_type": "markdown",
   "metadata": {},
   "source": []
  },
  {
   "cell_type": "code",
   "execution_count": null,
   "metadata": {},
   "outputs": [
    {
     "name": "stdout",
     "output_type": "stream",
     "text": [
      "torch.Size([])\n",
      "torch.Size([2])\n"
     ]
    }
   ],
   "source": []
  },
  {
   "cell_type": "code",
   "execution_count": 12,
   "metadata": {},
   "outputs": [
    {
     "name": "stdout",
     "output_type": "stream",
     "text": [
      "tensor([[1, 2],\n",
      "        [2, 3],\n",
      "        [3, 4]]) torch.Size([3, 2]) 2\n"
     ]
    }
   ],
   "source": [
    "#2d tensor\n",
    "tensor2d = torch.tensor([[1, 2],\n",
    "                         [2, 3], \n",
    "                         [3, 4]])\n",
    "print(tensor2d, tensor2d.shape, tensor2d.ndim)"
   ]
  },
  {
   "cell_type": "markdown",
   "metadata": {},
   "source": [
    "### Notes:\n",
    "- ndim = 0: scalar (0d arr?)\n",
    "- ndim = 1: vector (1d array)\n",
    "- ndim = 2: matrix (2d array)\n",
    "- ndim = 3: 3d array\n",
    "\n",
    "\n",
    "- ndim = # of elements in tensor.shape array"
   ]
  },
  {
   "cell_type": "code",
   "execution_count": 17,
   "metadata": {},
   "outputs": [
    {
     "name": "stdout",
     "output_type": "stream",
     "text": [
      "tensor([[0.9712, 0.1927, 0.6851, 0.5629],\n",
      "        [0.9805, 0.4831, 0.6496, 0.5737],\n",
      "        [0.3492, 0.0611, 0.1841, 0.2373]]) torch.Size([3, 4]) 2\n"
     ]
    }
   ],
   "source": [
    "## Random tensors\n",
    "rand = torch.rand(size=[3, 4])       #last two are always row, col\n",
    "print(rand, rand.shape, rand.ndim)"
   ]
  },
  {
   "cell_type": "code",
   "execution_count": 20,
   "metadata": {},
   "outputs": [
    {
     "name": "stdout",
     "output_type": "stream",
     "text": [
      "tensor([[0., 0., 0., 0.],\n",
      "        [0., 0., 0., 0.],\n",
      "        [0., 0., 0., 0.]]) torch.Size([3, 4]) 2\n"
     ]
    }
   ],
   "source": [
    "## 0 tensors\n",
    "zeros = torch.zeros(size=[3, 4])\n",
    "print(zeros, zeros.shape, zeros.ndim)"
   ]
  },
  {
   "cell_type": "code",
   "execution_count": 28,
   "metadata": {},
   "outputs": [
    {
     "data": {
      "text/plain": [
       "tensor([[0.9712, 0.0000, 0.0000, 0.0000],\n",
       "        [0.0000, 0.4831, 0.0000, 0.0000],\n",
       "        [0.0000, 0.0000, 0.1841, 0.0000]])"
      ]
     },
     "execution_count": 28,
     "metadata": {},
     "output_type": "execute_result"
    }
   ],
   "source": [
    "a = torch.tensor([[1, 0, 0, 0],\n",
    "                 [0, 1, 0, 0],\n",
    "                 [0, 0, 1, 0]])\n",
    "\n",
    "rand * a\n"
   ]
  },
  {
   "cell_type": "code",
   "execution_count": 51,
   "metadata": {},
   "outputs": [
    {
     "name": "stdout",
     "output_type": "stream",
     "text": [
      "tensor([0.0000, 0.2000, 0.4000, 0.6000, 0.8000, 1.0000, 1.2000, 1.4000, 1.6000,\n",
      "        1.8000, 2.0000, 2.2000, 2.4000, 2.6000, 2.8000, 3.0000, 3.2000, 3.4000,\n",
      "        3.6000, 3.8000, 4.0000, 4.2000, 4.4000, 4.6000, 4.8000, 5.0000, 5.2000,\n",
      "        5.4000, 5.6000, 5.8000, 6.0000, 6.2000, 6.4000, 6.6000, 6.8000, 7.0000,\n",
      "        7.2000, 7.4000, 7.6000, 7.8000, 8.0000, 8.2000, 8.4000, 8.6000, 8.8000,\n",
      "        9.0000, 9.2000, 9.4000, 9.6000, 9.8000]) torch.Size([50])\n"
     ]
    }
   ],
   "source": [
    "#python range, but for pytorch\n",
    "torch_vector = torch.arange(start=0, end=10, step=0.2)\n",
    "\n",
    "print(torch_vector, torch_vector.shape)"
   ]
  },
  {
   "cell_type": "code",
   "execution_count": 52,
   "metadata": {},
   "outputs": [
    {
     "data": {
      "text/plain": [
       "(tensor([0., 0., 0., 0., 0., 0., 0., 0., 0., 0., 0., 0., 0., 0., 0., 0., 0., 0., 0., 0., 0., 0., 0., 0.,\n",
       "         0., 0., 0., 0., 0., 0., 0., 0., 0., 0., 0., 0., 0., 0., 0., 0., 0., 0., 0., 0., 0., 0., 0., 0.,\n",
       "         0., 0.]),\n",
       " torch.Size([50]))"
      ]
     },
     "execution_count": 52,
     "metadata": {},
     "output_type": "execute_result"
    }
   ],
   "source": [
    "zeros_like = torch.zeros_like(torch_vector)\n",
    "zeros_like, zeros_like.shape"
   ]
  },
  {
   "cell_type": "markdown",
   "metadata": {},
   "source": [
    "# Datatypes"
   ]
  },
  {
   "cell_type": "code",
   "execution_count": 85,
   "metadata": {},
   "outputs": [
    {
     "data": {
      "text/plain": [
       "torch.float32"
      ]
     },
     "execution_count": 85,
     "metadata": {},
     "output_type": "execute_result"
    }
   ],
   "source": [
    "ten = torch.rand([3, 2])\n",
    "ten.dtype"
   ]
  },
  {
   "cell_type": "markdown",
   "metadata": {},
   "source": [
    "# Tensor Math"
   ]
  },
  {
   "cell_type": "code",
   "execution_count": 64,
   "metadata": {},
   "outputs": [
    {
     "name": "stdout",
     "output_type": "stream",
     "text": [
      "a: tensor([[1., 1., 1.],\n",
      "        [1., 1., 1.]])\n",
      "b: tensor([[1., 1., 1.],\n",
      "        [1., 1., 1.]])\n",
      "c: tensor([[1., 1., 1.],\n",
      "        [1., 1., 1.],\n",
      "        [1., 1., 1.]])\n",
      "a + b: \n",
      "tensor([[2., 2., 2.],\n",
      "        [2., 2., 2.]])\n",
      "a-b: \n",
      "tensor([[0., 0., 0.],\n",
      "        [0., 0., 0.]])\n",
      "\n"
     ]
    },
    {
     "ename": "RuntimeError",
     "evalue": "The size of tensor a (2) must match the size of tensor b (3) at non-singleton dimension 0",
     "output_type": "error",
     "traceback": [
      "\u001b[0;31m---------------------------------------------------------------------------\u001b[0m",
      "\u001b[0;31mRuntimeError\u001b[0m                              Traceback (most recent call last)",
      "Cell \u001b[0;32mIn[64], line 16\u001b[0m\n\u001b[1;32m     14\u001b[0m \u001b[38;5;28mprint\u001b[39m(\u001b[38;5;124mf\u001b[39m\u001b[38;5;124m'\u001b[39m\u001b[38;5;124ma-b: \u001b[39m\u001b[38;5;130;01m\\n\u001b[39;00m\u001b[38;5;132;01m{\u001b[39;00ma\u001b[38;5;241m-\u001b[39mb\u001b[38;5;132;01m}\u001b[39;00m\u001b[38;5;124m'\u001b[39m)\n\u001b[1;32m     15\u001b[0m \u001b[38;5;28mprint\u001b[39m()\n\u001b[0;32m---> 16\u001b[0m \u001b[38;5;28mprint\u001b[39m(\u001b[38;5;124mf\u001b[39m\u001b[38;5;124m'\u001b[39m\u001b[38;5;124m[2x3] + [3x3]: \u001b[39m\u001b[38;5;130;01m\\n\u001b[39;00m\u001b[38;5;132;01m{\u001b[39;00m\u001b[43ma\u001b[49m\u001b[38;5;241;43m+\u001b[39;49m\u001b[43mc\u001b[49m\u001b[38;5;132;01m}\u001b[39;00m\u001b[38;5;124m'\u001b[39m)\n",
      "\u001b[0;31mRuntimeError\u001b[0m: The size of tensor a (2) must match the size of tensor b (3) at non-singleton dimension 0"
     ]
    }
   ],
   "source": [
    "#addition, subtraction\n",
    "\n",
    "a = torch.ones(size=[2, 3])\n",
    "b = torch.ones(size=[2, 3])\n",
    "c = torch.ones(size=[3, 3])\n",
    "\n",
    "print(f'a: {a}')\n",
    "print(f'b: {b}')\n",
    "print(f'c: {c}')\n",
    "\n",
    "\n",
    "\n",
    "print(f'a + b: \\n{a+b}')\n",
    "print(f'a-b: \\n{a-b}')\n",
    "print()\n",
    "print(f'[2x3] + [3x3]: \\n{a+c}')\n"
   ]
  },
  {
   "cell_type": "code",
   "execution_count": 70,
   "metadata": {},
   "outputs": [
    {
     "name": "stdout",
     "output_type": "stream",
     "text": [
      "tensor([0, 1, 2])\n",
      "tensor([10, 11, 12])\n",
      "tensor([-10,  -9,  -8])\n",
      "tensor([0, 3, 6])\n",
      "tensor([0.0000, 0.3333, 0.6667])\n",
      "torch.int64\n"
     ]
    }
   ],
   "source": [
    "# element-wise add, subtract, multiply, divide\n",
    "tensor = torch.arange(0, 3, 1)\n",
    "print(tensor)\n",
    "\n",
    "print(tensor + 10)\n",
    "print(tensor - 10)\n",
    "print(tensor * 3)\n",
    "print(tensor / 3)\n",
    "print(tensor.dtype)"
   ]
  },
  {
   "cell_type": "markdown",
   "metadata": {},
   "source": [
    "### Matrix multiplication\n",
    "\n",
    "- 1d matmul 1d is just dot product between 2 vector"
   ]
  },
  {
   "cell_type": "code",
   "execution_count": null,
   "metadata": {},
   "outputs": [
    {
     "name": "stdout",
     "output_type": "stream",
     "text": [
      "tensor(5)\n"
     ]
    }
   ],
   "source": [
    "#vector matmul vector ==> dot product\n",
    "# (1*1) + (2*2)\n",
    "tensor = torch.tensor([1, 2])\n",
    "print(torch.matmul(tensor, tensor))"
   ]
  },
  {
   "cell_type": "code",
   "execution_count": null,
   "metadata": {},
   "outputs": [
    {
     "name": "stdout",
     "output_type": "stream",
     "text": [
      "tensor([[0.1681, 0.9938, 1.3125, 1.0815, 0.8810],\n",
      "        [0.2790, 0.8642, 1.0421, 0.9299, 0.3567]]) torch.Size([2, 5]) 2\n"
     ]
    }
   ],
   "source": [
    "#matrix multiplication\n",
    "\n",
    "a = torch.rand(size=[2, 3])\n",
    "b = torch.rand(size=[3, 5])\n",
    "res = torch.matmul(a, b)\n",
    "print(res, res.shape, res.ndim) # [2, 5], 2"
   ]
  },
  {
   "cell_type": "code",
   "execution_count": null,
   "metadata": {},
   "outputs": [
    {
     "name": "stdout",
     "output_type": "stream",
     "text": [
      "tensor([[[2., 2., 2.],\n",
      "         [2., 2., 2.],\n",
      "         [2., 2., 2.]],\n",
      "\n",
      "        [[2., 2., 2.],\n",
      "         [2., 2., 2.],\n",
      "         [2., 2., 2.]],\n",
      "\n",
      "        [[2., 2., 2.],\n",
      "         [2., 2., 2.],\n",
      "         [2., 2., 2.]]]) torch.Size([3, 3, 3]) 3\n",
      "[3x3x2] @ [3x2x3] = [3x3x3]\n"
     ]
    }
   ],
   "source": [
    "#3d matmul\n",
    "a = torch.ones(size=[3, 3, 2])\n",
    "b = torch.ones(size=[3, 2, 3])\n",
    "\n",
    "c = torch.matmul(a, b)\n",
    "print(c, c.shape, c.ndim)\n",
    "\n",
    "print('[3x3x2] @ [3x2x3] = [3x3x3]')\n"
   ]
  },
  {
   "cell_type": "code",
   "execution_count": 78,
   "metadata": {},
   "outputs": [
    {
     "name": "stdout",
     "output_type": "stream",
     "text": [
      "[c, z, m, n] @ [c, z, n, r] = [c, z, m, r]\n"
     ]
    }
   ],
   "source": [
    "#4d matmul\n",
    "print('[c, z, m, n] @ [c, z, n, r] = [c, z, m, r]')"
   ]
  },
  {
   "cell_type": "markdown",
   "metadata": {},
   "source": [
    "### min, max , mean ,sum"
   ]
  },
  {
   "cell_type": "code",
   "execution_count": 79,
   "metadata": {},
   "outputs": [
    {
     "name": "stdout",
     "output_type": "stream",
     "text": [
      "tensor([0., 1., 2., 3., 4., 5., 6., 7., 8., 9.])\n",
      "min: 0.0\n",
      "max: 9.0\n",
      "mean: 4.5\n",
      "sum: 45.0\n"
     ]
    },
    {
     "data": {
      "text/plain": [
       "tensor(4.5000)"
      ]
     },
     "execution_count": 79,
     "metadata": {},
     "output_type": "execute_result"
    }
   ],
   "source": [
    "#Values\n",
    "\n",
    "tensorx = torch.arange(0, 10, 1).type(dtype=torch.float32)\n",
    "print(tensorx)\n",
    "\n",
    "print(f\"min: {tensorx.min()}\")\n",
    "print(f\"max: {tensorx.max()}\")\n",
    "print(f\"mean: {tensorx.mean()}\") #torch.mean requires float32 input type\n",
    "print(f\"sum: {tensorx.sum()}\")\n",
    "tensorx.mean()"
   ]
  },
  {
   "cell_type": "code",
   "execution_count": 80,
   "metadata": {},
   "outputs": [
    {
     "name": "stdout",
     "output_type": "stream",
     "text": [
      "tensor([0., 1., 2., 3., 4., 5., 6., 7., 8., 9.])\n",
      "tensor(0) tensor(0.)\n",
      "tensor(9) tensor(9.)\n"
     ]
    }
   ],
   "source": [
    "#positional min and max\n",
    "#finds the index of the min and max\n",
    "print(tensorx)\n",
    "print(tensorx.argmin(), tensorx[tensorx.argmin()])\n",
    "print(tensorx.argmax(), tensorx[tensorx.argmax()])\n"
   ]
  },
  {
   "cell_type": "markdown",
   "metadata": {},
   "source": [
    "# Reshape, views, stacking, squeezing, unsqueezing tensors\n",
    "\n",
    "Reshape: change shape of input tensor into a different defined shape\n",
    "view: returns view of input tensor (a view of a tensor shares the same memory as the orginal tensor)\n",
    "\n",
    "changing a view of tensor x changes tensor x"
   ]
  }
 ],
 "metadata": {
  "kernelspec": {
   "display_name": ".venv",
   "language": "python",
   "name": "python3"
  },
  "language_info": {
   "codemirror_mode": {
    "name": "ipython",
    "version": 3
   },
   "file_extension": ".py",
   "mimetype": "text/x-python",
   "name": "python",
   "nbconvert_exporter": "python",
   "pygments_lexer": "ipython3",
   "version": "3.11.2"
  }
 },
 "nbformat": 4,
 "nbformat_minor": 2
}
